{
 "cells": [
  {
   "cell_type": "code",
   "execution_count": null,
   "metadata": {},
   "outputs": [],
   "source": [
    "users = [] \t# 접속한 사람들\n",
    "\n",
    "while len(users) < 3:     #여기에 조건식을 작성하세요\n",
    "    print(\"--------------------------\")\t# 구분선\n",
    "    name = input(\"아이디를 입력해주세요: \")\n",
    "    if name in users:\n",
    "        print(\"이미 접속한 아이디 입니다.\")\n",
    "        continue\n",
    "    users.append(name)\n",
    "\n",
    "    print(\"{}님, 게임에 접속되었습니다.\". format(name))\n",
    "    print(\"현재 접속자: {}\".format(users))"
   ]
  }
 ],
 "metadata": {
  "kernelspec": {
   "display_name": "dlab",
   "language": "python",
   "name": "python3"
  },
  "language_info": {
   "codemirror_mode": {
    "name": "ipython",
    "version": 3
   },
   "file_extension": ".py",
   "mimetype": "text/x-python",
   "name": "python",
   "nbconvert_exporter": "python",
   "pygments_lexer": "ipython3",
   "version": "3.10.4"
  }
 },
 "nbformat": 4,
 "nbformat_minor": 2
}
