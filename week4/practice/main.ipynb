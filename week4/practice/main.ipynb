{
 "cells": [
  {
   "cell_type": "markdown",
   "metadata": {},
   "source": [
    "# 실습 3"
   ]
  },
  {
   "cell_type": "code",
   "execution_count": null,
   "metadata": {},
   "outputs": [],
   "source": [
    "me = [\"김디랩\", 15, \"경기도 판교\", \"대디중학교\"]\n",
    "print(me)\n",
    "me = [\"김디랩\", 16, \"경기도 판교\", \"대디중학교\"]\n",
    "print(me)"
   ]
  },
  {
   "cell_type": "markdown",
   "metadata": {},
   "source": [
    "## 중간 미션"
   ]
  },
  {
   "cell_type": "code",
   "execution_count": null,
   "metadata": {},
   "outputs": [],
   "source": [
    "\"\"\"\n",
    "1) 수학, 영어점수를 각각 수정하세요. (수학: 90.0점, 영어: 80.5점)\n",
    "2) 출력예시에 맞게 출력하세요.: “최종 점수 : [95.5, 90.0, 80.5, 80.0]”\n",
    "\n",
    "추가) 네 과목의 평균을 구하세요.\n",
    "\"\"\"\n",
    "\n",
    "score = [95.5, 88.0, 82.6, 80.0]\n",
    "print(f\"최종 점수 : {score}\")\n",
    "score[1:3] = [90.0, 80.5]\n",
    "avg = sum(score) / len(score)\n",
    "print(avg)"
   ]
  },
  {
   "cell_type": "markdown",
   "metadata": {},
   "source": [
    "## 중간미션 2"
   ]
  },
  {
   "cell_type": "code",
   "execution_count": null,
   "metadata": {},
   "outputs": [],
   "source": [
    "score: list[list] = [\n",
    "    [1, 1, 1, 1],\n",
    "    [2, 2, 22, 2],\n",
    "    [3, 3, 3, 3],\n",
    "]  # [[]]\n"
   ]
  },
  {
   "cell_type": "code",
   "execution_count": null,
   "metadata": {},
   "outputs": [],
   "source": [
    "\n",
    "a = [1, 1, 1, 1]\n",
    "b = [2, 2, 22, 2]\n",
    "c = [3, 3, 3, 3]\n",
    "score = [a, b, c]\n",
    "len(score)"
   ]
  },
  {
   "cell_type": "code",
   "execution_count": null,
   "metadata": {},
   "outputs": [],
   "source": [
    "score[1][2] == b[2]"
   ]
  },
  {
   "cell_type": "code",
   "execution_count": null,
   "metadata": {},
   "outputs": [],
   "source": [
    "list"
   ]
  },
  {
   "cell_type": "markdown",
   "metadata": {},
   "source": [
    "# 마무리미션"
   ]
  },
  {
   "cell_type": "code",
   "execution_count": null,
   "metadata": {},
   "outputs": [],
   "source": [
    "\"\"\"\n",
    "1) stiker에 넛과 하이드를 추가하세요.\n",
    "2) 같은 이름의 스티커는 리스트로 묶어주세요.\n",
    "3) 스티커 종류의 수를 출력하세요.\n",
    "\"\"\"\n",
    "\n",
    "sticker:list = [\"디콘\", \"샤이\", \"샤이\", \"엘\"]\n"
   ]
  },
  {
   "cell_type": "markdown",
   "metadata": {},
   "source": [
    "1. \"+\"\n",
    "2. insert"
   ]
  },
  {
   "cell_type": "code",
   "execution_count": null,
   "metadata": {},
   "outputs": [],
   "source": [
    "sticker: list = [\"디콘\", \"샤이\", \"샤이\", \"엘\"]\n",
    "\n",
    "sticker = sticker + [\"넛\", '하이드']\n",
    "sticker"
   ]
  },
  {
   "cell_type": "code",
   "execution_count": null,
   "metadata": {},
   "outputs": [],
   "source": [
    "sticker: list = [\"디콘\", \"샤이\", \"샤이\", \"엘\"]\n",
    "sticker.insert(4, '넛')\n",
    "sticker.insert(5, '하이드')\n",
    "print(sticker)"
   ]
  },
  {
   "cell_type": "code",
   "execution_count": null,
   "metadata": {},
   "outputs": [],
   "source": [
    "sticker: list = [\"디콘\", \"샤이\", \"샤이\", \"엘\"]\n",
    "sticker.insert(4, [\"하이드\", \"넛\"])\n",
    "len(sticker)"
   ]
  },
  {
   "cell_type": "markdown",
   "metadata": {},
   "source": [
    "# Mission 1"
   ]
  },
  {
   "cell_type": "code",
   "execution_count": null,
   "metadata": {},
   "outputs": [],
   "source": []
  },
  {
   "cell_type": "markdown",
   "metadata": {},
   "source": [
    "# Mission 2"
   ]
  },
  {
   "cell_type": "markdown",
   "metadata": {},
   "source": [
    "디콘이와 친구들의 키가 오름차순으로 입력 되어 있는 리스트가 있습니다.\n",
    "1. 잘못 입력 되어 있는 3번 4번 친구의 데이터를 변경하세요.\n",
    "1. 전체 학생의 키 평균을 구하세요.\n",
    "1. 키가 가장 큰 친구와 키가 가장 작은 친구의 차이를 구하세요.\n",
    "1. 한명의 친구가 추가되 었습니다. 알맞은 위치에 추가하세요. (키: 164)"
   ]
  },
  {
   "cell_type": "markdown",
   "metadata": {},
   "source": [
    "### Hint\n",
    "🔵 아래의 리스트 함수를 참고하세요.\n",
    "```python\n",
    "len()\n",
    "sum()\n",
    "append()\n",
    "insert()\n",
    "remove()\n",
    "```\n",
    "\n",
    "### 출력예시\n",
    "```python\n",
    "# 1\n",
    "[154.5, 157.5, 161, 163.5, 168, 170.5]\n",
    "# 2\n",
    "162.5\n",
    "# 3\n",
    "16.0\n",
    "# 4\n",
    "[154.5, 157.5, 161, 163.5, 164, 168, 170.5]\n",
    "```"
   ]
  },
  {
   "cell_type": "code",
   "execution_count": null,
   "metadata": {},
   "outputs": [],
   "source": [
    "height = [154.5, 157.5, 159, 161.5, 168, 170.5]\n",
    "height[2:4] = [161, 163.5]\n",
    "height"
   ]
  },
  {
   "cell_type": "code",
   "execution_count": null,
   "metadata": {},
   "outputs": [],
   "source": [
    "sum(height) / len(height)"
   ]
  },
  {
   "cell_type": "code",
   "execution_count": null,
   "metadata": {},
   "outputs": [],
   "source": [
    "max(height) - min(height)"
   ]
  },
  {
   "cell_type": "code",
   "execution_count": null,
   "metadata": {},
   "outputs": [],
   "source": [
    "height.insert(4, 164)\n",
    "height"
   ]
  }
 ],
 "metadata": {
  "kernelspec": {
   "display_name": "dlab",
   "language": "python",
   "name": "python3"
  },
  "language_info": {
   "codemirror_mode": {
    "name": "ipython",
    "version": 3
   },
   "file_extension": ".py",
   "mimetype": "text/x-python",
   "name": "python",
   "nbconvert_exporter": "python",
   "pygments_lexer": "ipython3",
   "version": "3.10.4"
  }
 },
 "nbformat": 4,
 "nbformat_minor": 2
}
