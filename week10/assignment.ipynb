{
 "cells": [
  {
   "cell_type": "markdown",
   "metadata": {},
   "source": [
    "## 파이썬 미션①\n",
    "\n",
    "배운 내용을 응용해 미션을 해결해 봅시다.\n",
    "\n",
    "for 반복문과 range함수를 이용해서 문제를 해결해 봅시다.\n",
    "1. 마지막 숫자(lastNum)를 입력합니다.\n",
    "1. 입력한 숫자의 자료형을 정수형으로 변환합니다.\n",
    "1. 0부터 입력한 숫자까지 반복문을 실행시킵니다.\n",
    "1. result변수에 0부터 차례대로 숫자를 더합니다.\n",
    "1. 반복문이 종료되면 더한 결과(result)를 출력합니다.\n",
    "\n",
    "\n",
    "### 📌Hint\n",
    "\n",
    "range함수의 사용법을 생각해 봅시다.\n",
    "1. range(stop) : 0이상 stpo 미만의 정수를 생성합니다.\n",
    "2. range(sart, stop) : start 이상 stpo 미만의 정수를 생성합니다.\n",
    "3. range(start, stop, step) : start 이상 stpo 미만의 정수\n",
    "(각 정수의 간격: step) 를 생성합니다.\n",
    "#### [입력]\n",
    "```shell\n",
    "마지막 숫자: 77\n",
    "```\n",
    "#### [출력결과]\n",
    "```shell\n",
    "결과: 3003\n",
    "```"
   ]
  },
  {
   "cell_type": "code",
   "execution_count": null,
   "metadata": {},
   "outputs": [],
   "source": [
    "lastNum = int(input(\"마지막 숫자: \"))\n",
    "result = 0\n",
    "\n",
    "for i in range(lastNum + 1):\n",
    "    result += i\n",
    "\n",
    "print(f\"결과: {result}\")"
   ]
  },
  {
   "cell_type": "markdown",
   "metadata": {},
   "source": [
    "## 파이썬 미션①\n",
    "\n",
    "배운 내용을 응용해 미션을 해결해 봅시다.\n",
    "\n",
    "for 반복문과 range함수를 이용해서 문제를 해결해 봅시다.\n",
    "1. 시작 숫자(startNum)과 마지막 숫자(lastNum)를 입력합니다.\n",
    "1. 입력한 숫자의 자료형을 정수형으로 변환합니다.\n",
    "1. 시작 숫자부터 마지막 숫자까지 반복문을 실행시킵니다.\n",
    "1. 반복 하는 동안 홀수를 numList에 추가합니다.\n",
    "1. 반복문이 종료되면numList를 출력합니다.\n",
    "\n",
    "\n",
    "### 📌Hint\n",
    "\n",
    "range함수의 사용법을 생각해 봅시다.\n",
    "1. range(stop) : 0이상 stpo 미만의 정수를 생성합니다.\n",
    "2. range(sart, stop) : start 이상 stpo 미만의 정수를 생성합니다.\n",
    "3. range(start, stop, step) : start 이상 stpo 미만의 정수\n",
    "(각 정수의 간격: step) 를 생성합니다.\n",
    "#### [입력]\n",
    "```shell\n",
    "시작 숫자: 5\n",
    "마지막 숫자:14 \n",
    "```\n",
    "#### [출력결과]\n",
    "\n",
    "```shell\n",
    "결과: [5, 7, 9, 11, 13]\n",
    "```"
   ]
  },
  {
   "cell_type": "code",
   "execution_count": null,
   "metadata": {},
   "outputs": [],
   "source": [
    "numList = []\n",
    "startNum = int(input(\"시작 숫자: \"))\n",
    "lastNum = int(input(\"마지막 숫자: \"))\n",
    "\n",
    "for i in range(startNum, lastNum + 1):\n",
    "    if i % 2 != 0:\n",
    "        numList.append(i)\n",
    "print(f\"결과: {numList}\")"
   ]
  }
 ],
 "metadata": {
  "kernelspec": {
   "display_name": "dlab",
   "language": "python",
   "name": "python3"
  },
  "language_info": {
   "codemirror_mode": {
    "name": "ipython",
    "version": 3
   },
   "file_extension": ".py",
   "mimetype": "text/x-python",
   "name": "python",
   "nbconvert_exporter": "python",
   "pygments_lexer": "ipython3",
   "version": "3.10.4"
  }
 },
 "nbformat": 4,
 "nbformat_minor": 2
}
