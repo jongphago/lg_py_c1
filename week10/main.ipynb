{
 "cells": [
  {
   "cell_type": "markdown",
   "metadata": {},
   "source": [
    "# [10주차] 수업"
   ]
  },
  {
   "cell_type": "markdown",
   "metadata": {},
   "source": [
    "## [실습] while문 다시 보기 (1/10)\n",
    "### 문제\n",
    "‘while문을 활용하여, 리스트 변수 `people`의 요소들을 하나씩 출력해 봅시다.\n",
    "#### 반복 조건\n",
    "people의 요소를 다 출력할때까지\n",
    "#### 반복 동작\n",
    "1) `people`에서 인덱스 순서대로 출력한다.\n",
    "2) 변수 `index`를 1 증가한다."
   ]
  },
  {
   "cell_type": "code",
   "execution_count": null,
   "metadata": {},
   "outputs": [],
   "source": [
    "people = [\"예은\", \"상훈\", \"민아\", \"원준\"]\n",
    "index = 0\n",
    "\n",
    "while index < len(people):\n",
    "    print(people[index])\n",
    "    index += 1"
   ]
  },
  {
   "cell_type": "markdown",
   "metadata": {},
   "source": [
    "## [실습] for문 1 (2/10)\n",
    "### 🔎 ‘for문을 활용하여, 리스트 변수 line의 요소를 순서대로 출력해 티켓을 확인 봅시다.\n",
    "\n",
    "####\n",
    "Q. while문으로 구현했을 때와 어떤 차이점이 있나요?\n",
    "\n",
    "Q. for문과 문자열 포맷팅을 험깨 사용 할 수 있나요?\n",
    "\n",
    "#### 출력 예시\n",
    "```shell\n",
    "티켓 확인하겠습니다.\n",
    "넛님, 확인되었습니다.\n",
    "디콘님, 확인되었습니다.\n",
    "샤이님, 확인되었습니다.\n",
    "하이드님, 확인되었습니다.\n",
    "엘님, 확인되었습니다\n",
    "```"
   ]
  },
  {
   "cell_type": "code",
   "execution_count": null,
   "metadata": {},
   "outputs": [],
   "source": [
    "print(\"티켓 확인하겠습니다.\")\n",
    "line = [\"넛\", \"디콘\", \"샤이\", \"하이드\", \"엘\"]  # 대기자 열"
   ]
  },
  {
   "cell_type": "code",
   "execution_count": null,
   "metadata": {},
   "outputs": [],
   "source": [
    "for name in line:\n",
    "    print(f\"{name}님, 확인되었습니다.\")  # 대기자 이름 출력"
   ]
  },
  {
   "cell_type": "markdown",
   "metadata": {},
   "source": [
    "## [실습] for문 2 (3/10)\n",
    "### 🔎 ‘for문을 이용해 범인인 하이드를 검거해 봅시다!.\n",
    "-범인을 발견하면, 더 이상 수색하지 않습니다.\n",
    "\n",
    "\n",
    "#### 질문\n",
    "Q. 반복문 영역을 빠져 나가기 위해 어떤 명령을 작성했나요?\n",
    "\n",
    "#### 출력 예시\n",
    "```shell\n",
    "범인을 찾고 있습니다.\n",
    "넛 : 범인이 아닙니다.\n",
    "디콘 : 범인이 아닙니다.\n",
    "샤이 : 범인이 아닙니다.\n",
    "범인 하이드 검거 완료\n",
    "```"
   ]
  },
  {
   "cell_type": "code",
   "execution_count": null,
   "metadata": {},
   "outputs": [],
   "source": [
    "print(\"범인을 찾고 있습니다.\")\n",
    "line = [\"넛\", \"디콘\", \"샤이\", \"하이드\", \"엘\"]  # 용의자 리스트"
   ]
  },
  {
   "cell_type": "code",
   "execution_count": null,
   "metadata": {},
   "outputs": [],
   "source": [
    "target = \"하이드\"  # 범인 이름\n",
    "for name in line:\n",
    "    if name == target:\n",
    "        print(\"범인 하이드 검거 완료\")\n",
    "        break\n",
    "    else:\n",
    "        print(f\"{name} : 범인이 아닙니다.\")"
   ]
  },
  {
   "cell_type": "markdown",
   "metadata": {},
   "source": [
    "## [실습] for문③ & 중간 미션 (4/10)\n",
    "\n",
    "### 🔎 ‘변수 name에 영어 단어를 대입하고, 한 글자씩 출력하세요.\n",
    "문자열을 대상으로 for문을 구현해 봅시다.\n",
    "\n",
    "### 🔎 도전! 중간미션\n",
    "변수 name에서 모음(a, e, i, o, u)이 몇 개인지 파악하여, 출력해 봅시다."
   ]
  },
  {
   "cell_type": "code",
   "execution_count": null,
   "metadata": {},
   "outputs": [],
   "source": [
    "name = \"Renner\"  #영어 이름을 대입하세요.(문자열)\n",
    "for char in name:\n",
    "    print(char)\n",
    "\n",
    "num_vowel = 0\n",
    "if char == \"a\":\n",
    "    num_vowel += 1\n",
    "elif char == \"e\":\n",
    "    num_vowel += 1\n",
    "elif char == \"i\":\n",
    "    num_vowel += 1\n",
    "elif char == \"o\":\n",
    "    num_vowel += 1\n",
    "elif char == \"u\":\n",
    "    num_vowel += 1\n",
    "print(num_vowel)\n",
    "\n",
    "num_vowel = 0\n",
    "if char == \"a\" or char == \"e\" or char == \"i\" or char == \"o\" or char == \"u\":\n",
    "    num_vowel += 1\n",
    "num_vowel\n",
    "print(num_vowel)"
   ]
  },
  {
   "cell_type": "code",
   "execution_count": null,
   "metadata": {},
   "outputs": [],
   "source": [
    "name = \"Renner\"  #영어 이름을 대입하세요.(문자열)\n",
    "num_vowels = 0\n",
    "for char in name:\n",
    "    if char.lower() in list(\"aeiou\"):\n",
    "        num_vowels += 1\n",
    "        print(char)\n",
    "print(f\"모음의 개수: {num_vowels}\")"
   ]
  },
  {
   "cell_type": "markdown",
   "metadata": {},
   "source": [
    "## [실습] 함수 range() (5/10)\n",
    "- range는 '범위' 라는 뜻을 가지고 있어요.\n",
    "- 파이썬의 함수 range는 특정 범위의 숫자를 생성해 주는 함수에요.\n",
    "- 함수 range에 다양한 형태에 대해서 실습한 후, for문과 함께 사용해 봅시다!\n",
    "\n",
    "#### 📌Tip - range 함수\n",
    "- 함수 range는 3가지의 형태로 사용할 수 있어요!\n",
    "\n",
    "    1. range(stop) : 0이상 stop 미민의 정수를 생성합니다.\n",
    "    2. range(start, stop) : start 이상 stop 미민의 정수를 생성합니다.\n",
    "    3. range(start, stop, step) : start 이상 stop 미민의 정수 (각 정수의 간격: step) 를 생성합니다."
   ]
  },
  {
   "cell_type": "code",
   "execution_count": null,
   "metadata": {},
   "outputs": [],
   "source": [
    "list(range(10))"
   ]
  },
  {
   "cell_type": "code",
   "execution_count": null,
   "metadata": {},
   "outputs": [],
   "source": [
    "list(range(2, 10))"
   ]
  },
  {
   "cell_type": "code",
   "execution_count": null,
   "metadata": {},
   "outputs": [],
   "source": [
    "list(range(2, 10, 2))"
   ]
  },
  {
   "cell_type": "markdown",
   "metadata": {},
   "source": [
    "## [실습] for-range 구문 (6/10)\n",
    "for문과 함수 range를 함게 하용할 경우, 반복문의 횟수를 쉽게 제어할 수 있어요!\n",
    "\n",
    "### 🔎 원하는 문장을 5번 반복하여 출력해 봅시다\n",
    "\n",
    "#### 출력 예시\n",
    "```shell\n",
    "dlab\n",
    "dlab\n",
    "dlab\n",
    "dlab\n",
    "dlab\n",
    "```"
   ]
  },
  {
   "cell_type": "code",
   "execution_count": null,
   "metadata": {},
   "outputs": [],
   "source": [
    "for _ in range(5):\n",
    "    print(\"dlab\")"
   ]
  },
  {
   "cell_type": "markdown",
   "metadata": {},
   "source": [
    "##  [미션] 마무리 미션① (7/10)\n",
    "4가지의 미션을 스스로 해결해 봅시다.\n",
    "미션은 모두 for문을 활용해서 해결해 봅시다.\n",
    "\n",
    "\n",
    "1. 미션은 본인 속도에 맞게 해결합니다.\n",
    "2. 모든 미션은 작성한 만큼 ‘제출’ 버튼을 눌러 제출합니다.\n",
    "\n",
    "### Tip - range 함수\n",
    "함수 range는 3가지의 형태로 사용할 수 있어요!\n",
    "\n",
    "1. range(stop) : 0이상 stpo 미만의 정수를 생성합니다.\n",
    "2. range(sart, stop) : start 이상 stpo 미만의 정수를 생성합니다.\n",
    "3. range(start, stop, step) : start 이상 stpo 미만의 정수 (각 정수의 간격: step) 를 생성합니다.\n",
    "\n",
    "#### 🔎 미션1) 5부터 10까지의 숫자를 출력하세요."
   ]
  },
  {
   "cell_type": "code",
   "execution_count": null,
   "metadata": {},
   "outputs": [],
   "source": [
    "for i in range(5, 11):\n",
    "    print(i)"
   ]
  },
  {
   "cell_type": "markdown",
   "metadata": {},
   "source": [
    "##  [미션] 마무리 미션2 (8/10)\n",
    "#### 🔎 미션2) 1부터 10까지의 숫자 중 짝수만 출력하세요."
   ]
  },
  {
   "cell_type": "code",
   "execution_count": null,
   "metadata": {},
   "outputs": [],
   "source": [
    "for i in range(2, 11, 2):\n",
    "    print(i)"
   ]
  },
  {
   "cell_type": "markdown",
   "metadata": {},
   "source": [
    "##  [미션] 마무리 미션3 (9/10)\n",
    "####  미션3) 리스트의 아이템을 하나씩 출력하세요."
   ]
  },
  {
   "cell_type": "code",
   "execution_count": null,
   "metadata": {},
   "outputs": [],
   "source": [
    "student = [\"남준\", \"석진\", \"윤기\", \"호석\", \"지민\", \"태형\", \"정국\"]\n",
    "for name in student:\n",
    "    print(name)"
   ]
  },
  {
   "cell_type": "markdown",
   "metadata": {},
   "source": [
    "##  [미션] 마무리 미션4 (10/10)\n",
    "####  🔎 미션4) 리스트의 인덱스와 아이템을 함께 출력하세요."
   ]
  },
  {
   "cell_type": "code",
   "execution_count": null,
   "metadata": {},
   "outputs": [],
   "source": [
    "student = [\"남준\", \"석진\", \"윤기\", \"호석\", \"지민\", \"태형\", \"정국\"]\n",
    "for index, name in enumerate(student):\n",
    "    print(f\"{index}: {name}\")"
   ]
  }
 ],
 "metadata": {
  "kernelspec": {
   "display_name": "Python 3",
   "language": "python",
   "name": "python3"
  },
  "language_info": {
   "codemirror_mode": {
    "name": "ipython",
    "version": 3
   },
   "file_extension": ".py",
   "mimetype": "text/x-python",
   "name": "python",
   "nbconvert_exporter": "python",
   "pygments_lexer": "ipython3",
   "version": "3.10.4"
  }
 },
 "nbformat": 4,
 "nbformat_minor": 2
}
