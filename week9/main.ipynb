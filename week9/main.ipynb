{
 "cells": [
  {
   "cell_type": "markdown",
   "metadata": {
    "vscode": {
     "languageId": "plaintext"
    }
   },
   "source": [
    "## [실습] 딕셔너리 수정/추가/삭제 (3/7)"
   ]
  },
  {
   "cell_type": "markdown",
   "metadata": {},
   "source": [
    "### 🔎 미션 ①\n",
    "\n",
    "마트에서 아래 과일들을 팔고 있습니다.\n",
    "아래 과일들의 가격을 딕셔너리 변수 fruits로 선언해 봅시다."
   ]
  },
  {
   "cell_type": "code",
   "execution_count": null,
   "metadata": {},
   "outputs": [],
   "source": [
    "fruits = {\"apple\": 5000, \"banana\": 3000, \"cherry\": 10000}\n",
    "print(fruits)"
   ]
  },
  {
   "cell_type": "markdown",
   "metadata": {},
   "source": [
    "### 🔎 미션 ②\n",
    "\n",
    "망고 가격을 오른쪽처럼 출력해 봅시다.\n",
    "\"망고는 1개당 2000원 입니다.\""
   ]
  },
  {
   "cell_type": "code",
   "execution_count": null,
   "metadata": {},
   "outputs": [],
   "source": [
    "fruits[\"mango\"] = 2000\n",
    "print(fruits)"
   ]
  },
  {
   "cell_type": "markdown",
   "metadata": {},
   "source": [
    "### 🔎 미션 ③\n",
    "\n",
    "사과의 가격이 500원에서 700원으로 올랐다고 합니다.\n",
    "key 'apple'의 value를 700으로 변경해 봅시다."
   ]
  },
  {
   "cell_type": "code",
   "execution_count": null,
   "metadata": {},
   "outputs": [],
   "source": [
    "fruits[\"apple\"]  = 7000\n",
    "print(fruits)"
   ]
  },
  {
   "cell_type": "markdown",
   "metadata": {},
   "source": [
    "### 🔎 미션 ④\n",
    "\n",
    "마트에 오렌지가 새로운 과일로 들어왔다고 합니다.\n",
    "변수 fruits에 오렌지의 가격 정보를 추가해 봅시다. (가격: 1200원)"
   ]
  },
  {
   "cell_type": "code",
   "execution_count": null,
   "metadata": {},
   "outputs": [],
   "source": [
    "fruits['orange'] = 12000\n",
    "print(fruits)"
   ]
  },
  {
   "cell_type": "markdown",
   "metadata": {},
   "source": [
    "### 🔎 미션 ⑤\n",
    "\n",
    "마트에서 바나나가 다 팔렸다고 합니다.\n",
    "변수 fruits에서 바나나의 정보를 삭제해 봅시다."
   ]
  },
  {
   "cell_type": "code",
   "execution_count": null,
   "metadata": {},
   "outputs": [],
   "source": [
    "del fruits['banana']\n",
    "print(fruits)"
   ]
  },
  {
   "cell_type": "markdown",
   "metadata": {},
   "source": [
    "## [실습]중간 미션  (4/7)"
   ]
  },
  {
   "cell_type": "markdown",
   "metadata": {},
   "source": [
    "### 배운 내용을 활용해 중간 미션을 해결해 봅시다.\n",
    "\n",
    "\n",
    "<img\n",
    "  src=\"/Users/my/Documents/Project/dlab/lg_py_c1/week9/source/4.png\"\n",
    "  width=\"50%\"\n",
    "  height=\"50%\"\n",
    "/>\n",
    " \n",
    "\n",
    "### 🔎 도전! 중간 미션\n",
    "\n",
    "리스트 변수 phoneList에 연락처 목록이 저장되어 있습니다.\n",
    "\n",
    "리스트 변수의 인덱스를 ‘단축번호’로 가정합니다.\n",
    "\n",
    "**단축번호 1번에 저장되어 있는 준우의 번호를 수정해 봅시다.**\n",
    "\n",
    "### 출력\n",
    "```python\n",
    "{'name': '준우', 'phone': '010-1004-1004'}\n",
    "```"
   ]
  },
  {
   "cell_type": "code",
   "execution_count": null,
   "metadata": {},
   "outputs": [],
   "source": [
    "# 연락처 목록\n",
    "phoneList = [\n",
    "    {\"name\": \"은정\", \"phone\": \"010-1234-5678\"},\n",
    "    {\"name\": \"준우\", \"phone\": \"010-0000-6789\"},\n",
    "]\n",
    "phoneList"
   ]
  },
  {
   "cell_type": "code",
   "execution_count": null,
   "metadata": {},
   "outputs": [],
   "source": [
    "phoneList[1][\"phone\"] = \"010-1004-1004\"\n",
    "phoneList"
   ]
  },
  {
   "cell_type": "markdown",
   "metadata": {},
   "source": [
    "## [실습] 딕셔너리 - 함수①  (5/7)"
   ]
  },
  {
   "cell_type": "markdown",
   "metadata": {},
   "source": [
    "\n",
    "<img\n",
    "  src=\"/Users/my/Documents/Project/dlab/lg_py_c1/week9/source/5.png\"\n",
    "  width=\"50%\"\n",
    "  height=\"50%\"\n",
    "/>\n",
    "\n",
    "### 🔎 딕셔너리 함수를 사용해 봅시다.\n",
    "Q. 딕셔너리의 key, value, item을 각각 출력할 수 있나요?\n",
    "\n",
    "Q. 출력한 값의 자료형은 무엇인가요?\n",
    "\n",
    "Q. key, value, item을 리스트로 변환 할 수 있나요?"
   ]
  },
  {
   "cell_type": "code",
   "execution_count": null,
   "metadata": {},
   "outputs": [],
   "source": [
    "fruits = {\"apple\": 500, \"banana\": 2500, \"mango\": 2000}"
   ]
  },
  {
   "cell_type": "code",
   "execution_count": null,
   "metadata": {},
   "outputs": [],
   "source": [
    "print(f\"keys:\\t{fruits.keys()}\")\n",
    "print(f\"values:\\t{fruits.values()}\")\n",
    "print(f\"items:\\t{fruits.items()}\")"
   ]
  },
  {
   "cell_type": "code",
   "execution_count": null,
   "metadata": {},
   "outputs": [],
   "source": [
    "print(f\"keys type:\\t{type(fruits.keys())}\")\n",
    "print(f\"values type:\\t{type(fruits.values())}\")\n",
    "print(f\"items type:\\t{type(fruits.items())}\")"
   ]
  },
  {
   "cell_type": "code",
   "execution_count": null,
   "metadata": {},
   "outputs": [],
   "source": [
    "print(f\"keys list:\\t{list(fruits.keys())}\")\n",
    "print(f\"values list:\\t{list(fruits.values())}\")\n",
    "print(f\"items list:\\t{list(fruits.items())}\")"
   ]
  },
  {
   "cell_type": "markdown",
   "metadata": {},
   "source": [
    "## 딕셔너리 - 함수②  (6/7)"
   ]
  },
  {
   "cell_type": "markdown",
   "metadata": {},
   "source": [
    "\n",
    "<img\n",
    "  src=\"/Users/my/Documents/Project/dlab/lg_py_c1/week9/source/6.png\"\n",
    "  width=\"50%\"\n",
    "  height=\"50%\"\n",
    "/>\n",
    "\n",
    "### 🔎 딕셔너리 함수를 사용해 봅시다.\n",
    "\n",
    "Q. 딕셔너리를 한번에 추가/ 수정이 가능한가요?\n",
    "\n",
    "Q. 두개의 딕셔너리를 합치는것이 가능한가요?\n",
    "\n",
    "Q. 딕셔너리의 모든 item을 한번에 삭제할 수 있나요?"
   ]
  },
  {
   "cell_type": "code",
   "execution_count": null,
   "metadata": {},
   "outputs": [],
   "source": [
    "fruits1 = {'apple':500,'banana':2500,'mango':2000}\n",
    "fruits2 = {'strawberry':6000, 'peach':3500}"
   ]
  },
  {
   "cell_type": "code",
   "execution_count": null,
   "metadata": {},
   "outputs": [],
   "source": [
    "# Q. 딕셔너리를 한번에 추가/ 수정이 가능한가요?\n",
    "fruits1.update({\"apple\": 700, \"orange\": 1200})\n",
    "fruits1"
   ]
  },
  {
   "cell_type": "code",
   "execution_count": null,
   "metadata": {},
   "outputs": [],
   "source": [
    "# Q. 두개의 딕셔너리를 합치는것이 가능한가요?\n",
    "fruits3 = fruits1.copy()\n",
    "fruits3.update(fruits2)\n",
    "fruits3"
   ]
  },
  {
   "cell_type": "code",
   "execution_count": null,
   "metadata": {},
   "outputs": [],
   "source": [
    "# Q. 딕셔너리의 모든 item을 한번에 삭제할 수 있나요?\n",
    "fruits3.clear()\n",
    "fruits3"
   ]
  },
  {
   "cell_type": "markdown",
   "metadata": {},
   "source": [
    "## 마무리 미션  (7/7)\n"
   ]
  },
  {
   "cell_type": "markdown",
   "metadata": {},
   "source": [
    "\n",
    "배운 내용을 복습하며 마무리 미션을 해결해 봅시다.\n",
    "\n",
    "<img\n",
    "  src=\"/Users/my/Documents/Project/dlab/lg_py_c1/week9/source/71.png\"\n",
    "  width=\"50%\"\n",
    "  height=\"50%\"\n",
    "/>\n",
    "\n",
    "<img\n",
    "  src=\"/Users/my/Documents/Project/dlab/lg_py_c1/week9/source/72.png\"\n",
    "  width=\"50%\"\n",
    "  height=\"50%\"\n",
    "/>\n",
    "\n",
    "\n",
    "### 💡Hint\n",
    "🔵 아래의 리스트 함수를 참고하세요.\n",
    "`keys()`, `values()`, `items()`, `update()`, `clear()`, \n",
    "\n",
    "### 🔎 도전! 마무리 미션\n",
    "\n",
    "1. 디랩 분식의 메뉴판을 만들어 봅시다.\n",
    "기존에 있던 메뉴판을 함수를 사용해 item을 지우고, 메뉴를 추가 해봅시다.\n",
    "```python\n",
    "{'떡볶이': 3800, '어묵': 1200, '튀김': 5000}\n",
    "```\n",
    "2. 변경된 메뉴판에서 메뉴 이름을 리스트 형태로 출력하고, 각 메뉴의 수량을 입력해 최종 결제 금액을 출력하는 프로그램을 만들어 봅시다.\n",
    "```python\n",
    "['떡볶이', '어묵', '튀김']\n",
    "떡볶이 주문 수량을 입력하세요: 3\n",
    "어묵 주문 수량을 입력하세요: 0\n",
    "튀김 주문 수량을 입력하세요: 2\n",
    "===============================\n",
    "최종 결제 금액은 21400원 입니다.\n",
    "```"
   ]
  },
  {
   "cell_type": "code",
   "execution_count": null,
   "metadata": {},
   "outputs": [],
   "source": [
    "# 기존메뉴\n",
    "menu = {\n",
    "    \"아이스크림\": 2500,\n",
    "    \"커피\": 4200,\n",
    "    \"유자차\": 3800,\n",
    "}"
   ]
  },
  {
   "cell_type": "code",
   "execution_count": null,
   "metadata": {},
   "outputs": [],
   "source": [
    "# 1. 기존에 있던 메뉴판을 함수를 사용해 item을 지우고, 메뉴를 추가 해봅시다.\n",
    "menu.clear()\n",
    "menu.update({\"떡볶이\": 3800, \"어묵\": 1200, \"튀김\": 5000})\n",
    "menu  # {\"떡볶이\": 3800, \"어묵\": 1200, \"튀김\": 5000}"
   ]
  },
  {
   "cell_type": "code",
   "execution_count": null,
   "metadata": {},
   "outputs": [],
   "source": [
    "print(list(menu.keys()))\n",
    "total_price = 0\n",
    "for key, value in menu.items():\n",
    "    num = int(input(f\"{key} 몇개 드릴까요?: \"))\n",
    "    total_price += value * num\n",
    "print(f\"총 금액은 {total_price}원 입니다.\")"
   ]
  },
  {
   "cell_type": "code",
   "execution_count": null,
   "metadata": {},
   "outputs": [],
   "source": []
  }
 ],
 "metadata": {
  "kernelspec": {
   "display_name": "dlab",
   "language": "python",
   "name": "python3"
  },
  "language_info": {
   "codemirror_mode": {
    "name": "ipython",
    "version": 3
   },
   "file_extension": ".py",
   "mimetype": "text/x-python",
   "name": "python",
   "nbconvert_exporter": "python",
   "pygments_lexer": "ipython3",
   "version": "3.10.4"
  }
 },
 "nbformat": 4,
 "nbformat_minor": 2
}
