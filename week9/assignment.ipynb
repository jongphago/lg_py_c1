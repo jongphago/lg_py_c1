{
 "cells": [
  {
   "cell_type": "markdown",
   "metadata": {},
   "source": [
    "# [9주차] 과제\n",
    "## 파이썬 미션 1"
   ]
  },
  {
   "cell_type": "markdown",
   "metadata": {},
   "source": [
    "### 문제\n",
    "딕셔너리 변수 data 에는 서울, 부산, 대전, 대구 각 도시의 오늘 평균 기온이 담겨져 있습니다.\n",
    "\n",
    "아래 미션을 해결해 봅시다."
   ]
  },
  {
   "cell_type": "code",
   "execution_count": null,
   "metadata": {},
   "outputs": [],
   "source": [
    "data = {\n",
    "    \"Seoul\": 20.4,\n",
    "    \"Busan\": 24.0,\n",
    "    \"Daejeon\": 20.6,\n",
    "    \"Daegu\": 230.7,\n",
    "}"
   ]
  },
  {
   "cell_type": "markdown",
   "metadata": {},
   "source": [
    "#### 1-a) 대구의 기온이 잘못 저장되어 있습니다.230.7도가 아닌 23.7도로 데이터를 수정하세요.\n"
   ]
  },
  {
   "cell_type": "code",
   "execution_count": null,
   "metadata": {},
   "outputs": [],
   "source": [
    "data[\"Daegu\"] = 23.7"
   ]
  },
  {
   "cell_type": "markdown",
   "metadata": {},
   "source": [
    "#### 1-b) 제주의 기온도 추가해 봅시다.(key - 'Jeju', value - 22.5)\n"
   ]
  },
  {
   "cell_type": "code",
   "execution_count": null,
   "metadata": {},
   "outputs": [],
   "source": [
    "data[\"Jeju\"] = 22.5"
   ]
  },
  {
   "cell_type": "markdown",
   "metadata": {},
   "source": [
    "#### 2) 아래 힌트를 참고하여, 변수data 에 저장된 5개 도시의 오늘 평균 기온을 계산하여 출력하세요.\n",
    "- hint\n",
    "    -  파이썬 내장함수 sum 은 괄호 안의 데이터를 모두 더해 줍니다.\n",
    "    -  이 때, 괄호 안의 데이터는 순서 있는 데이터 형태이어야 합니다.\n",
    "    - 5개 도시의 평균 기온은 어떻게 구할 수 있을까요?\n",
    "\n",
    "        ```python\n",
    "        print(sum([100, 200, 300]))  # 리스트의 합\n",
    "        print(sum((50, 100, 150)))  # 튜플의 합\n",
    "        ```"
   ]
  },
  {
   "cell_type": "code",
   "execution_count": null,
   "metadata": {},
   "outputs": [],
   "source": [
    "sum_temp = sum(data.values())\n",
    "len_temp = len(data)\n",
    "avg_temp = sum_temp / len_temp\n",
    "print(f\"평균 기온: {avg_temp:.2f}도\")"
   ]
  }
 ],
 "metadata": {
  "kernelspec": {
   "display_name": "Python 3",
   "language": "python",
   "name": "python3"
  },
  "language_info": {
   "codemirror_mode": {
    "name": "ipython",
    "version": 3
   },
   "file_extension": ".py",
   "mimetype": "text/x-python",
   "name": "python",
   "nbconvert_exporter": "python",
   "pygments_lexer": "ipython3",
   "version": "3.10.4"
  }
 },
 "nbformat": 4,
 "nbformat_minor": 2
}
