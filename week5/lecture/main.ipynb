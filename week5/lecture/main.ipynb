{
 "cells": [
  {
   "cell_type": "markdown",
   "metadata": {},
   "source": [
    "# Week 5"
   ]
  },
  {
   "cell_type": "markdown",
   "metadata": {},
   "source": [
    "## 리스트 - 함수 1"
   ]
  },
  {
   "cell_type": "code",
   "execution_count": 2,
   "metadata": {},
   "outputs": [],
   "source": [
    "# height: 키 데이터\n",
    "# fruits: 과일 데이터\n",
    "# last: 한국의 성(last name) 데이터\n",
    "height = [150.5, 180.7, 170.6, 145.5]\n",
    "fruits = [\"apple\", \"orange\", \"apple\", \"pear\", \"orange\", \"banana\"]\n",
    "last = [\"김\", \"구\", \"하\", \"박\", \"남궁\", \"유\", \"안\", \"송\"]"
   ]
  },
  {
   "cell_type": "code",
   "execution_count": 7,
   "metadata": {},
   "outputs": [
    {
     "name": "stdout",
     "output_type": "stream",
     "text": [
      "['apple', 'apple', 'banana', 'orange', 'orange', 'pear']\n"
     ]
    }
   ],
   "source": [
    "fruits.sort()\n",
    "print(fruits)"
   ]
  },
  {
   "cell_type": "markdown",
   "metadata": {},
   "source": [
    "## 리스트 - 함수 2"
   ]
  },
  {
   "cell_type": "code",
   "execution_count": 10,
   "metadata": {},
   "outputs": [],
   "source": [
    "# height: 키 데이터\n",
    "# fruits: 과일 데이터\n",
    "# last: 한국의 성(last name) 데이터\n",
    "height = [150.5, 180.7, 170.6, 145.5]\n",
    "fruits = [\"apple\", \"orange\", \"apple\", \"pear\", \"orange\", \"banana\"]\n",
    "last = [\"김\", \"구\", \"하\", \"박\", \"남궁\", \"유\", \"안\", \"송\"]"
   ]
  },
  {
   "cell_type": "code",
   "execution_count": 13,
   "metadata": {},
   "outputs": [
    {
     "data": {
      "text/plain": [
       "[145.5, 170.6, 180.7, 150.5]"
      ]
     },
     "execution_count": 13,
     "metadata": {},
     "output_type": "execute_result"
    }
   ],
   "source": [
    "height.reverse()\n",
    "height"
   ]
  },
  {
   "cell_type": "markdown",
   "metadata": {},
   "source": [
    "## 리스트 - 함수 3"
   ]
  },
  {
   "cell_type": "code",
   "execution_count": null,
   "metadata": {},
   "outputs": [],
   "source": [
    "# candy리스트에 딸기, 청포도, 자두를 추가하세요.\n",
    "candy = [\"레몬\", \"포도\", \"오렌지\", \"리치\"]"
   ]
  },
  {
   "cell_type": "code",
   "execution_count": null,
   "metadata": {},
   "outputs": [],
   "source": [
    "list"
   ]
  },
  {
   "cell_type": "markdown",
   "metadata": {},
   "source": [
    "## 사용자 입력 - input()"
   ]
  },
  {
   "cell_type": "code",
   "execution_count": 16,
   "metadata": {},
   "outputs": [
    {
     "name": "stdout",
     "output_type": "stream",
     "text": [
      "7\n"
     ]
    }
   ],
   "source": [
    "name = input()\n",
    "print(name)"
   ]
  },
  {
   "cell_type": "markdown",
   "metadata": {},
   "source": [
    "## 중간미션"
   ]
  },
  {
   "cell_type": "markdown",
   "metadata": {},
   "source": [
    "- ‘디랩 피자가게’에 신메뉴가 출시 되었습니다.\n",
    "- 입력 받은 신메뉴를 피자 리스트에 추가하고, 가나다 순으로 정렬하여 출력해 보세요.\n",
    "- 변수 menu는 중첩리스트로, 피자 리스트와 음료 리스트가 요소로 구성되어 있습니다.\n",
    "\n",
    "### [활용 문법]\n",
    "\n",
    "- 중첩리스트 인덱싱\n",
    "- 사용자 입력\n",
    "- 리스트 함수\n",
    "\n",
    "### [출력 예시]\n",
    "```python\n",
    "디랩 피자가게 관리 프로그램입니다.\n",
    "피자 종류: ['하와이안 피자', '포테이토 피자', '쉬림프 피자']\n",
    "음료 종류: ['스프라이트', '오렌지 쥬스', '콜라', '청포도 에이드']\n",
    "-------------------------------------------------\n",
    "신메뉴 피자: 고구마 피자\n",
    "피자 종류: ['고구마 피자', '쉬림프 피자', '포테이토 피자', '하와이안 피자']\n",
    "```"
   ]
  },
  {
   "cell_type": "code",
   "execution_count": null,
   "metadata": {},
   "outputs": [],
   "source": [
    "print(\"디랩 피자가게 관리 프로그램입니다.\")\n",
    "menu = [['하와이안 피자', '포테이토 피자', '쉬림프 피자'], ['스프라이트', '오렌지 쥬스', '콜라', '청포도 에이드']]\n",
    "\n",
    "print(\"피자 종류: {}\".format(menu[0]))\n",
    "print(\"음료 종류: {}\".format(menu[1]))\n",
    "print(\"-------------------------------------------------\")\n",
    "\n",
    "# 1) 신메뉴 피자를 입력받아, 아래 변수 pizza에 저장하세요.\n",
    "# 2) 변수 pizza는 menu에 있는 피자 종류에 추가하세요.\n",
    "# 3) 신메뉴 추가후, 가나다 순으로 정렬하여 출력하세요.\n",
    "pizza = None"
   ]
  },
  {
   "cell_type": "code",
   "execution_count": null,
   "metadata": {},
   "outputs": [],
   "source": []
  },
  {
   "cell_type": "markdown",
   "metadata": {},
   "source": [
    "## 사용자 입력 - 활용"
   ]
  },
  {
   "cell_type": "code",
   "execution_count": null,
   "metadata": {},
   "outputs": [],
   "source": [
    "age = input(\"현재 나이를 입력하세요. : \")\n",
    "\n",
    "# 몇 년 후에 성인이 되는지 계산하여 출력합니다."
   ]
  },
  {
   "cell_type": "markdown",
   "metadata": {},
   "source": [
    "## 형 변환 (type conversion)"
   ]
  },
  {
   "cell_type": "code",
   "execution_count": 19,
   "metadata": {},
   "outputs": [
    {
     "data": {
      "text/plain": [
       "int"
      ]
     },
     "execution_count": 19,
     "metadata": {},
     "output_type": "execute_result"
    }
   ],
   "source": [
    "age = int(\"1\")\n",
    "type(age)"
   ]
  },
  {
   "cell_type": "markdown",
   "metadata": {},
   "source": [
    "## 자료형-튜플(Tuple) 1"
   ]
  },
  {
   "cell_type": "code",
   "execution_count": null,
   "metadata": {},
   "outputs": [],
   "source": [
    "# 생일이 저장되어 있는 튜플을 변경 해봅시다.\n",
    "bday = (\"6월18일\", \"12월4일\", \"3월 10일\", \"10월3일\", \"7월17일\")"
   ]
  },
  {
   "cell_type": "code",
   "execution_count": 21,
   "metadata": {},
   "outputs": [
    {
     "name": "stdout",
     "output_type": "stream",
     "text": [
      "(1, 2)\n",
      "<class 'tuple'>\n"
     ]
    }
   ],
   "source": [
    "a = 1, 2\n",
    "print(a)\n",
    "print(type(a))"
   ]
  },
  {
   "cell_type": "markdown",
   "metadata": {},
   "source": [
    "## 자료형-튜플(Tuple) 2"
   ]
  },
  {
   "cell_type": "markdown",
   "metadata": {},
   "source": [
    "한 서점에서 이 달의 베스트 도서 3를 리스트로 관리하고 있습니다.\n",
    "이번 달에는 3위 도서가 변경되었습니다.\n",
    "\n",
    "- 지난 달: '고요할수록 밝아지는 것들'\n",
    "- 이번 달: '공부머리 독서법'\n",
    "\n",
    "새로운 3위 도서의 책 제목과 대출번호를 입력 받아, 3위 자리에 대입해 보세요."
   ]
  },
  {
   "cell_type": "markdown",
   "metadata": {},
   "source": [
    "### [미션]\n",
    "- 변수 best는 리스트 변수이며,\n",
    "그 요소로는 각 책 제목과 대출번호가 튜플로 구성되어 있습니다.\n",
    "- 책 제목: 문자열,  대출번호: 정수형(‘공부머리 독서법’,  450820)\n",
    "- 나의 닉네임을 입력하여 리스트에 추가하고, 아래처럼 출력하세요.\n",
    "\n",
    "### [활용문법]\n",
    "\n",
    "- 자료형 - 튜플\n",
    "- 사용자 입력과 형 변환\n",
    "- 리스트 함수\n",
    "\n",
    "### [출력예시]\n",
    "```python\n",
    "베스트 도서목록을 수정해 주세요.\n",
    "제목: 공부머리 독서법\n",
    "번호: 450820\n",
    "[('언어의 온도,344500), ('한국사 대모험', 583110), ('공부머리 독서법, 450820')]\n",
    "```"
   ]
  },
  {
   "cell_type": "code",
   "execution_count": null,
   "metadata": {},
   "outputs": [],
   "source": [
    "print(\"베스트 도서목록을 수정해 주세요.\")\n",
    "best = [\n",
    "    (\"언어의 온도\", 344500),\n",
    "    (\"한국사 대모험\", 583110),\n",
    "    (\"고요할수록 밝아지는 것들\", 346830),\n",
    "]\n",
    "\n",
    "# 새로운 책 제목(공부머리 독서법)을 입력받아, 변수 title에 저장합니다.\n",
    "title = input(\"제목: \")\n",
    "\n",
    "# 1) 해당 책의 대출번호(450820)를 입력받아, 아래 변수 num에 저장하세요.\n",
    "# 2) 변수 title과 num을 튜플로 묶어, 변수 best 3위 자리에 대입하세요.\n",
    "# 단, 대출번호는 문자열이 아닌 정수형으로 대입되어야 합니다.\n",
    "\n",
    "num = None"
   ]
  },
  {
   "cell_type": "markdown",
   "metadata": {},
   "source": [
    "## 마무리 미션"
   ]
  },
  {
   "cell_type": "markdown",
   "metadata": {},
   "source": [
    "- 간단한 로그인 프로그램을 구현해 봅시다.\n",
    "- 리스트 변수 group에는 접속 중인 사용자들이 들어 있습니다.\n",
    "- 나의 닉네임을 입력해 리스트에 추가해서, 아래처럼 출력하세요.\n",
    "```python\n",
    "로그인 하기 위해 닉네임을 입력하세요.\n",
    "닉네임: happy\n",
    "happy님, 로그인 되었습니다.\n",
    "현재 접속중: ['디랩', 'chloe', 'daddy', 'happy']\n",
    "```"
   ]
  },
  {
   "cell_type": "code",
   "execution_count": null,
   "metadata": {},
   "outputs": [],
   "source": [
    "# -*- coding: utf-8 -*-\n",
    "\"\"\"\n",
    "1) 닉네임을 입력하여 리스트 'group1'에 추가하세요.\n",
    "2) 출력예시에 맞게 출력하세요.\n",
    "\"\"\"\n",
    "\n",
    "group = [\"디랩\", \"chloe\", \"daddy\"]\n",
    "print(\"로그인하기 위해 닉네임을 입력하세요.\")"
   ]
  }
 ],
 "metadata": {
  "kernelspec": {
   "display_name": "dlab",
   "language": "python",
   "name": "python3"
  },
  "language_info": {
   "codemirror_mode": {
    "name": "ipython",
    "version": 3
   },
   "file_extension": ".py",
   "mimetype": "text/x-python",
   "name": "python",
   "nbconvert_exporter": "python",
   "pygments_lexer": "ipython3",
   "version": "3.10.4"
  }
 },
 "nbformat": 4,
 "nbformat_minor": 2
}
