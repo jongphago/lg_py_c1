{
 "cells": [
  {
   "cell_type": "markdown",
   "metadata": {},
   "source": [
    "## [8주차] 과제 > 파이썬 미션①\n",
    "### 칠판 지우기 당번을 뽑아봅시다.\n",
    "\n",
    "1️⃣1~6사이의 수를 num변수에 입력받아 저장합니다.\n",
    "\n",
    "2️⃣ num의 값만큼 student에서 랜덤하게 사람을 뽑아 변수 p에 저장합니다.\n",
    "\n",
    "3️⃣ 뽑힌 사람은 중복되어 다시 뽑을 수 없습니다.\n",
    "\n",
    "\n",
    "### 💡Hint\n",
    "🔵 아래의 random 함수를 참고하세요.\n",
    "\n",
    "`randint()`, `choice()`, `sample()`, `shuffle()` ​\n",
    "\n",
    "\n",
    "### input\n",
    "`사람 수를 입력해 주세요(1~6사이의 수를 입력): 5`\n",
    "\n",
    "### output\n",
    "`['샤이', '넛', '주디', '하이드', '엘라']`"
   ]
  },
  {
   "cell_type": "code",
   "execution_count": null,
   "metadata": {},
   "outputs": [],
   "source": [
    "# 필요한 모듈을 추가하세요\n",
    "\n",
    "student = [\"디콘\", \"엘\", \"넛\", \"하이드\", \"샤이\", \"주디\", \"엘라\"]\n",
    "num = None\n",
    "p = None"
   ]
  },
  {
   "cell_type": "code",
   "execution_count": null,
   "metadata": {},
   "outputs": [],
   "source": [
    "# Answer\n",
    "import random\n",
    "\n",
    "student = [\"디콘\", \"엘\", \"넛\", \"하이드\", \"샤이\", \"주디\", \"엘라\"]\n",
    "num = int(input(\"사람 수를 입력해 주세요(1~6사이의 수를 입력): \"))\n",
    "p = random.sample(student, num)\n",
    "print(p)"
   ]
  },
  {
   "cell_type": "markdown",
   "metadata": {},
   "source": [
    "## [8주차] 과제 > 파이썬 미션②\n",
    "\n",
    "### 홀짝 맞추기 게임을 만들어 봅시다.\n",
    "\n",
    "1️⃣ 반복문이 실행 될 때마다 변수 `answer`에 '홀', '짝'중 하나를 랜덤으로 저장합니다.\n",
    "\n",
    "2️⃣ 변수 `enter`에 홀, 짝 중 하나를 입력합니다. 입력을 할때마다 `cnt`변수가 증가하면서 입력한 수를 카운트 합니다.\n",
    "\n",
    "3️⃣ 변수 `answer`와 `enter`가 같다면 반복문을 종료하고, 몇번만에 정답을 맞췄는지 확인합니다.\n",
    "\n",
    "4️⃣변수 `answer`와 `enter`가 다르다면 정답을 맞출때 까지 반복합니다.\n",
    "\n",
    "\n",
    "```python\n",
    "출력\n",
    "홀/짝 중 하나를 입력하세요: 홀\n",
    "틀렸습니다. 다시 맞춰 보세요.\n",
    "홀/짝 중 하나를 입력하세요: 짝\n",
    "틀렸습니다. 다시 맞춰 보세요.\n",
    "홀/짝 중 하나를 입력하세요: 짝\n",
    "정답입니다.\n",
    "3번 만에 정답을 맞췄습니다.\n",
    "```\n",
    "\n",
    "*정답은 랜덤하게 결정됩니다. 같은 입력이더라도 출력이 다를 수 있습니다."
   ]
  },
  {
   "cell_type": "code",
   "execution_count": null,
   "metadata": {},
   "outputs": [],
   "source": [
    "# 필요한 모듈을 추가하세요\n",
    "# import\n",
    "\n",
    "result = [\"홀\", \"짝\"]\n",
    "cnt = 0\n",
    "\n",
    "while None:  # 알맞은 조건을 입력하세요.\n",
    "    answer = None\n",
    "    enter = None"
   ]
  },
  {
   "cell_type": "code",
   "execution_count": null,
   "metadata": {},
   "outputs": [],
   "source": [
    "# Answer\n",
    "import random\n",
    "\n",
    "result = [\"홀\", \"짝\"]\n",
    "cnt = 0\n",
    "\n",
    "while True:  # 알맞은 조건을 입력하세요.\n",
    "    answer = random.choice(result)\n",
    "    enter = input(\"홀/짝 중 하나를 입력하세요: \")\n",
    "    cnt += 1\n",
    "    if enter == answer:\n",
    "        break\n",
    "\n",
    "print(\"정답입니다.\")\n",
    "print(f\"{cnt}번 만에 정답을 맞췄습니다.\")"
   ]
  }
 ],
 "metadata": {
  "kernelspec": {
   "display_name": "dlab",
   "language": "python",
   "name": "python3"
  },
  "language_info": {
   "codemirror_mode": {
    "name": "ipython",
    "version": 3
   },
   "file_extension": ".py",
   "mimetype": "text/x-python",
   "name": "python",
   "nbconvert_exporter": "python",
   "pygments_lexer": "ipython3",
   "version": "3.10.4"
  }
 },
 "nbformat": 4,
 "nbformat_minor": 2
}
