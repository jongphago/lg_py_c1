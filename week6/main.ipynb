{
 "cells": [
  {
   "cell_type": "code",
   "execution_count": null,
   "metadata": {},
   "outputs": [],
   "source": [
    "light = 'green'\n",
    "\n",
    "condition = \"green\" == \"red\"\n",
    "print(type(condition))\n",
    "print(condition)\n",
    "if condition:\n",
    "    print(f\"light: {light}\")\n",
    "    pass"
   ]
  },
  {
   "cell_type": "markdown",
   "metadata": {},
   "source": [
    "# Reiview"
   ]
  },
  {
   "cell_type": "markdown",
   "metadata": {},
   "source": [
    "```python\n",
    "print('동물원에 오신걸 환영합니다.')\n",
    "print('토끼머리띠를 받고 싶다면 R을 호랑이 머리띠를 받고 싶다면 T를 입력해 주세요.')\n",
    "\n",
    "hairband = 2"
   ]
  },
  {
   "cell_type": "code",
   "execution_count": null,
   "metadata": {},
   "outputs": [],
   "source": [
    "user_input = input(\"받고 싶은 머리띠를 입력해주세요(R/T) : \")\n",
    "if user_input == \"R\":\n",
    "    print(\"토끼 머리띠를 받으세요!\")\n",
    "elif user_input == \"T\":\n",
    "    print(\"호랑이 머리띠를 받으세요!\")\n",
    "else:\n",
    "    print(\"잘못 입력 하였습니다.\")"
   ]
  },
  {
   "cell_type": "markdown",
   "metadata": {},
   "source": [
    "```python\n",
    "print('놀이공원에 오신걸 환영합니다.')\n",
    "print('타고 싶은 놀이기구와 키를 입력하세요.')\n",
    "print('1: 바이킹 / 2: 회전목마 / 3: 후룸라이드')\n",
    "\n",
    "rides = \n",
    "height = "
   ]
  },
  {
   "cell_type": "code",
   "execution_count": null,
   "metadata": {},
   "outputs": [],
   "source": [
    "print(\"놀이공원에 오신걸 환영합니다.\")\n",
    "print(\"타고 싶은 놀이기구와 키를 입력하세요.\")\n",
    "print(\"1: 바이킹 / 2: 회전목마 / 3: 후룸라이드\")\n",
    "\n",
    "\n",
    "rides = int(input(\"놀이기구 번호를 입력해주세요: \"))\n",
    "height = int(input(\"키를 입력해주세요: \"))\n",
    "\n",
    "if rides == 1:\n",
    "    if height >= 130:\n",
    "        print(\"탑승 가능\")\n",
    "    else:\n",
    "        print(\"탑승 불가능\")\n",
    "elif rides == 2:\n",
    "    print(\"탑승 가능\")\n",
    "elif rides == 3:\n",
    "    if height >= 110:\n",
    "        print(\"탑승 가능\")\n",
    "    else:\n",
    "        print(\"탑승 불가능\")"
   ]
  },
  {
   "cell_type": "markdown",
   "metadata": {},
   "source": [
    "변수 num에 숫자를 입력 받고\n",
    "\n",
    "문자열 변수 s에 저장된 ‘Alan’ 이름을 입력 받은 횟수만큼 출력하는 프로그램을 작성하세요.\n",
    "\n",
    "```python\n",
    "num = \n",
    "s = 'Alan'"
   ]
  },
  {
   "cell_type": "code",
   "execution_count": null,
   "metadata": {},
   "outputs": [],
   "source": [
    "num = int(input())\n",
    "s = 'Alan'\n",
    "print(s * num)"
   ]
  },
  {
   "cell_type": "markdown",
   "metadata": {},
   "source": [
    "문자열 변수 s에 입력받은 단어의 개수를 count 변수에 대입하고 입력받은 단어는 대문자로 아래 출력형식에 맞춰 출력해주세요.\n",
    "\n",
    "단, 아래 출력형식을 지켜주세요.\n",
    "\n",
    "```python\n",
    "s = \"Welcome to the Python Wiki, a user-editable compendium of knowledge based around the Python programming language. Some pages are protected against casual editing - see WikiEditingGuidelines for more information about editing content. Python is a great object-oriented, interpreted, and interactive programming language. It is often compared (favorably of course :-) ) to Lisp, Tcl, Perl, Ruby, C#, Visual Basic, Visual Fox Pro, Scheme or Java... and it's much more fun. Python combines remarkable power with very clear syntax. It has modules, classes, exceptions, very high level dynamic data types, and dynamic typing. There are interfaces to many system calls and libraries, as well as to various windowing systems. New built-in modules are easily written in C or C++ (or other languages, depending on the chosen implementation). Python is also usable as an extension language for applications written in other languages that need easy-to-use scripting or automation interfaces.\"\n",
    "\n",
    "count = "
   ]
  },
  {
   "cell_type": "code",
   "execution_count": null,
   "metadata": {},
   "outputs": [],
   "source": [
    "s = \"Welcome to the Python Wiki, a user-editable compendium of knowledge based around the Python programming language. Some pages are protected against casual editing - see WikiEditingGuidelines for more information about editing content. Python is a great object-oriented, interpreted, and interactive programming language. It is often compared (favorably of course :-) ) to Lisp, Tcl, Perl, Ruby, C#, Visual Basic, Visual Fox Pro, Scheme or Java... and it's much more fun. Python combines remarkable power with very clear syntax. It has modules, classes, exceptions, very high level dynamic data types, and dynamic typing. There are interfaces to many system calls and libraries, as well as to various windowing systems. New built-in modules are easily written in C or C++ (or other languages, depending on the chosen implementation). Python is also usable as an extension language for applications written in other languages that need easy-to-use scripting or automation interfaces.\"\n",
    "\n",
    "word = input()\n",
    "count = s.count(word)\n",
    "print(f\"{word.upper()}의 개수는 {count}개입니다.\")"
   ]
  },
  {
   "cell_type": "markdown",
   "metadata": {},
   "source": [
    "사용자에게 가지고 있는 돈을 입력받습니다.\n",
    "\n",
    "money라는 변수를 이용하세요.\n",
    "음식점 메뉴가\n",
    "\n",
    "제육볶음 7,000원\n",
    "라면+김밥 5,000원\n",
    "라면 3,000원\n",
    "김밥 2,500원\n",
    "이 있을 때,\n",
    "\n",
    "이 중 사용자가 가지고 있는 돈에 최대한 맞춰 먹을 수 있는 메뉴를 “if - elif - else 조건문” 을 사용하여 코드를 작성하세요.\n",
    "*사용자가 가지고 있는 돈은 10,000 원 이하 입니다.\n",
    "*하나의 메뉴만 시킬 수 있습니다.\n",
    "\n",
    "money 변수를 이용하여 if 조건문을 충족시키고, menu 변수 4개를 사용하여 출력하세요.\n",
    "\n",
    "사용자가 2,500원보다 적은 돈을 가지고 있으면 “돈이 충분하지 않습니다.” 라고 출력하세요.\n",
    "\n",
    "(입력 형태에 아무 것도 쓰지 마세요.)\n",
    "\n",
    "```python\n",
    "# -*- coding: utf-8 -*-\n",
    "# UTF-8 encoding when using korean\n",
    "\n",
    "#음식메뉴 가격\n",
    "#제육볶음 7,000원\n",
    "#라면+김밥 5,000원\n",
    "#라면 3,000원\n",
    "#김밥 2,500원\n",
    "\n",
    "menu1 = \"제육볶음\"\n",
    "menu2 = \"라면+김밥\"\n",
    "menu3 = \"라면\"\n",
    "menu4 = \"김밥\"\n",
    "\n",
    "money = "
   ]
  },
  {
   "cell_type": "code",
   "execution_count": null,
   "metadata": {},
   "outputs": [],
   "source": [
    "# 음식메뉴 가격\n",
    "# 제육볶음 7,000원\n",
    "# 라면+김밥 5,000원\n",
    "# 라면 3,000원\n",
    "# 김밥 2,500원\n",
    "\n",
    "menu1 = \"제육볶음\"\n",
    "menu2 = \"라면+김밥\"\n",
    "menu3 = \"라면\"\n",
    "menu4 = \"김밥\"\n",
    "\n",
    "money = int(input())\n",
    "\n",
    "if money >= 7000:\n",
    "    print(menu1)\n",
    "elif money >= 5000:\n",
    "    print(menu2)\n",
    "elif money >= 3000:\n",
    "    print(menu3)\n",
    "elif money >= 2500:\n",
    "    print(menu4)\n",
    "else:\n",
    "    print(\"돈이 충분하지 않습니다.\")"
   ]
  },
  {
   "cell_type": "markdown",
   "metadata": {},
   "source": [
    "문자열 변수 S1, S2, S3, S4, S5에 각각 문자를 입력 받고 앞 두자리 문자열에 포함된 글자를 체크하여 아래 조건에 따라 리스트 변수answer에 데이터를 추가합니다.\n",
    "단, 입력된 모든 글자는 소문자로 입력합니다.\n",
    "\n",
    "py가 포함되면 리스트 변수 answer에 python 추가\n",
    "ja가 포함되면 리스트 변수 answer에 java 추가\n",
    "lu가 포함되면 리스트 변수 answer에 lua 추가\n",
    "나머지 글자는 리스트 변수 answer에 None 추가\n",
    "입력은 5번을 받고 answer리스트의 2번째 데이터 부터 4번째 데이터 값을 리스트로 출력해주세요.\n",
    "\n",
    "아래 출력형식을 꼭 지켜주세요.\n",
    "\n",
    "```python\n",
    "s1 = \n",
    "s2 = \n",
    "s3 = \n",
    "s4 = \n",
    "s5 = \n",
    "answer = []"
   ]
  },
  {
   "cell_type": "code",
   "execution_count": null,
   "metadata": {},
   "outputs": [],
   "source": [
    "s1 = input()\n",
    "s2 = input()\n",
    "s3 = input()\n",
    "s4 = input()\n",
    "s5 = input()\n",
    "answer = []\n",
    "\n",
    "if 'py' in s1:\n",
    "    answer.append('python')\n",
    "elif \"ja\" in s1:\n",
    "    answer.append(\"java\")\n",
    "elif 'lu' in s1:\n",
    "    answer.append('lua')\n",
    "else:\n",
    "    answer.append('None')\n",
    "\n",
    "if \"py\" in s2:\n",
    "    answer.append(\"python\")\n",
    "elif \"ja\" in s2:\n",
    "    answer.append(\"java\")\n",
    "elif \"lu\" in s2:\n",
    "    answer.append(\"lua\")\n",
    "else:\n",
    "    answer.append('None')\n",
    "\n",
    "if \"py\" in s3:\n",
    "    answer.append(\"python\")\n",
    "elif \"ja\" in s3:\n",
    "    answer.append(\"java\")\n",
    "elif \"lu\" in s3:\n",
    "    answer.append(\"lua\")\n",
    "else:\n",
    "    answer.append('None')\n",
    "\n",
    "if \"py\" in s4:\n",
    "    answer.append(\"python\")\n",
    "elif \"ja\" in s4:\n",
    "    answer.append(\"java\")\n",
    "elif \"lu\" in s4:\n",
    "    answer.append(\"lua\")\n",
    "else:\n",
    "    answer.append('None')\n",
    "\n",
    "if \"py\" in s5:\n",
    "    answer.append(\"python\")\n",
    "elif \"ja\" in s5:\n",
    "    answer.append(\"java\")\n",
    "elif \"lu\" in s5:\n",
    "    answer.append(\"lua\")\n",
    "else:\n",
    "    answer.append('None')\n",
    "    \n",
    "print(answer[1:4])"
   ]
  },
  {
   "cell_type": "markdown",
   "metadata": {},
   "source": [
    "사용자로부터 숫자 하나를 입력받고, 아래 조건을 만족하는 코드를 작성하세요.\n",
    "(Hint. % 연산자를 이용하면 홀수와 짝수를 구분할 수 있습니다.)\n",
    "\n",
    "입력 받은 값이 짝수인지, 홀수인지 판별하기\n",
    "짝수일 경우 “짝수”를 문자열 변수 answer에 추가하기\n",
    "홀수일 경우 “홀수”를 문자열 변수 answer에 추가하기\n",
    "슬라이싱을 이용해서 형식을 맞춰 출력해주세요.\n",
    "\n",
    "```python\n",
    "answer = ''"
   ]
  },
  {
   "cell_type": "code",
   "execution_count": null,
   "metadata": {},
   "outputs": [],
   "source": [
    "answer = \"\"\n",
    "num = int(input())\n",
    "is_even = (num % 2) == 0\n",
    "if is_even:\n",
    "    answer += \"짝수\"\n",
    "else:\n",
    "    answer += \"홀수\"\n",
    "\n",
    "print(f\"{num}의 값:{answer}\"[:-1])"
   ]
  },
  {
   "cell_type": "code",
   "execution_count": null,
   "metadata": {},
   "outputs": [],
   "source": [
    "\"\"\"\n",
    "기본 금액: 10,000원\n",
    "조조 영화: 2,000원 할인\n",
    "일반 영화 회원가: 1,000원 할인\n",
    "3D 영화: 3,000원 추가\n",
    "\"\"\"\n",
    "\n",
    "price = 10000  # 기본 금액\n",
    "print(\"'디랩 어벤져스' 영화 예매\")\n",
    "print(\"1. 9시/조조\\n2. 11시\\n3. 12시10분/3D\\n4. 15시30분\")\n",
    "print(\"-------------------------\")\n",
    "\n",
    "time = input(\"영화시간: \")\n",
    "\n",
    "is_조조영화: bool = time == 1\n",
    "is_일반영화: bool = time == 2 or time == 4\n",
    "is_3d영화: bool = time == 3\n",
    "time = int(time)\n",
    "if is_조조영화:\n",
    "    price -= 2000\n",
    "elif is_일반영화:\n",
    "    membership = input(\"회원여부(y/n): \")\n",
    "    if membership == \"y\":\n",
    "        price -= 1000\n",
    "elif is_3d영화:\n",
    "    price += 3000\n",
    "\n",
    "print(f\"최종 금액: {price}원\")"
   ]
  }
 ],
 "metadata": {
  "kernelspec": {
   "display_name": "dlab",
   "language": "python",
   "name": "python3"
  },
  "language_info": {
   "codemirror_mode": {
    "name": "ipython",
    "version": 3
   },
   "file_extension": ".py",
   "mimetype": "text/x-python",
   "name": "python",
   "nbconvert_exporter": "python",
   "pygments_lexer": "ipython3",
   "version": "3.10.4"
  }
 },
 "nbformat": 4,
 "nbformat_minor": 2
}
